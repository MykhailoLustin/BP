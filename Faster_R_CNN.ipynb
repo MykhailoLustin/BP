{
  "cells": [
    {
      "cell_type": "markdown",
      "metadata": {
        "id": "HQ80zmLmb8XL"
      },
      "source": [
        "# Práca s modelom Faster R-CNN implementovaným pomocou knižnice Detectron2\n",
        "\n",
        "### Poznámka: Práca na tomto notebooku bola vykonaná v prostredí Google Colab s jazykom Python verzie 3.10. Ak chcete pracovať na svojom zariadení, možno budete potrebovať nainštalovať nástroje [C++ Build Tools](https://visualstudio.microsoft.com/downloads/#build-tools-for-visual-studio-2019)\n",
        "\n",
        "Stiahnutie knižnice Detectron2 a všetkych ostatnych knižnic"
      ]
    },
    {
      "cell_type": "code",
      "execution_count": null,
      "metadata": {
        "id": "dD0XojxhJZrH",
        "pycharm": {
          "is_executing": true
        }
      },
      "outputs": [],
      "source": [
        "!python -m pip install 'git+https://github.com/facebookresearch/detectron2.git'\n",
        "!pip install optuna"
      ]
    },
    {
      "cell_type": "code",
      "execution_count": 2,
      "metadata": {
        "id": "Pqkp72tZKSLN"
      },
      "outputs": [],
      "source": [
        "# detectron2 imports\n",
        "import detectron2\n",
        "from detectron2.utils.logger import setup_logger\n",
        "setup_logger()\n",
        "from detectron2 import model_zoo\n",
        "from detectron2.engine import DefaultTrainer\n",
        "from detectron2.engine import DefaultPredictor\n",
        "from detectron2.config import get_cfg\n",
        "from detectron2.utils.visualizer import Visualizer\n",
        "from detectron2.structures import BoxMode\n",
        "from detectron2.data import DatasetCatalog, MetadataCatalog\n",
        "from detectron2.evaluation import COCOEvaluator, inference_on_dataset, LVISEvaluator\n",
        "from detectron2.data import build_detection_test_loader\n",
        "from detectron2.utils.visualizer import ColorMode\n",
        "\n",
        "# other libs (you can remove unnecessary imports)\n",
        "\n",
        "import torch, torchvision\n",
        "import torchvision.transforms as transforms\n",
        "\n",
        "import matplotlib.pyplot as plt\n",
        "from matplotlib.pyplot import imshow\n",
        "\n",
        "from PIL import Image\n",
        "import cv2\n",
        "import numpy as np\n",
        "import IPython\n",
        "import json\n",
        "import os\n",
        "import json\n",
        "import csv\n",
        "import time\n",
        "#import random\n",
        "from pathlib import Path"
      ]
    },
    {
      "cell_type": "markdown",
      "metadata": {
        "id": "rMGTzWOMcFOO"
      },
      "source": [
        "# Príprava dát\n",
        "Konverzia anotačných súborov vo formáte YOLO do formátu COCO."
      ]
    },
    {
      "cell_type": "markdown",
      "metadata": {
        "id": "hyF2fD0BOjj_"
      },
      "source": [
        "Funkcia na vytvorenie dvojíc obrázkov a anotácií na trénovanie Detectron2."
      ]
    },
    {
      "cell_type": "code",
      "execution_count": 3,
      "metadata": {
        "id": "XXNWyoEOaMph"
      },
      "outputs": [],
      "source": [
        "def create_data_pairs(input_path, detectron_img_path, detectron_annot_path, dir_type = 'train'):\n",
        "\n",
        "    img_paths = Path(input_path + dir_type + '/images/').glob('*.jpg')\n",
        "\n",
        "    pairs = []\n",
        "    for img_path in img_paths:\n",
        "\n",
        "        file_name_tmp = str(img_path).split('/')[-1].split('.')\n",
        "        file_name_tmp.pop(-1)\n",
        "        file_name = '.'.join((file_name_tmp))\n",
        "\n",
        "        label_path = Path(input_path + dir_type + '/labels/' + file_name + '.txt')\n",
        "\n",
        "        if label_path.is_file():\n",
        "\n",
        "            line_img = detectron_img_path + dir_type+'/images/'+ file_name + '.jpg'\n",
        "            line_annot = detectron_annot_path+dir_type+'/labels/' + file_name + '.txt'\n",
        "            pairs.append([line_img, line_annot])\n",
        "\n",
        "    return pairs"
      ]
    },
    {
      "cell_type": "markdown",
      "metadata": {
        "id": "i2ayN6KyOloZ"
      },
      "source": [
        "Uvádza cesty pre súbor údajov."
      ]
    },
    {
      "cell_type": "code",
      "execution_count": 7,
      "metadata": {
        "id": "gzL8d25aL0Lb"
      },
      "outputs": [],
      "source": [
        "input_path = './Meteory_format_YOLOv5_aug/'\n",
        "\n",
        "detectron_img_path = './Meteory_format_YOLOv5_aug/'\n",
        "detectron_annot_path = './Meteory_format_YOLOv5_aug/'"
      ]
    },
    {
      "cell_type": "markdown",
      "metadata": {
        "id": "T6MFRac3O1cc"
      },
      "source": [
        "Generovanie dvojíc trénovacích a validačných údajov pomocou predtým definovanej funkcie."
      ]
    },
    {
      "cell_type": "code",
      "execution_count": 8,
      "metadata": {
        "id": "MDbV8y19a1-8"
      },
      "outputs": [],
      "source": [
        "train = create_data_pairs(input_path, detectron_img_path, detectron_annot_path, 'train')\n",
        "val = create_data_pairs(input_path, detectron_img_path, detectron_annot_path, 'valid')"
      ]
    },
    {
      "cell_type": "markdown",
      "metadata": {
        "id": "MYVFORmMO2ny"
      },
      "source": [
        "Konverzia dvojíc trénovacích a validačných údajov na zoznamy vo formáte COCO."
      ]
    },
    {
      "cell_type": "code",
      "execution_count": 9,
      "metadata": {
        "id": "vg-Ik9ZxPCYv"
      },
      "outputs": [],
      "source": [
        "def create_coco_format(data_pairs):\n",
        "\n",
        "    data_list = []\n",
        "\n",
        "    for i, path in enumerate(data_pairs):\n",
        "\n",
        "        filename = path[0]\n",
        "\n",
        "        img_h, img_w = cv2.imread(filename).shape[:2]\n",
        "\n",
        "        img_item = {}\n",
        "        img_item['file_name'] = filename\n",
        "        img_item['image_id'] = i\n",
        "        img_item['height']= img_h\n",
        "        img_item['width']= img_w\n",
        "\n",
        "        print(str(i), filename)\n",
        "\n",
        "\n",
        "        annotations = []\n",
        "        with open(path[1]) as annot_file:\n",
        "            lines = annot_file.readlines()\n",
        "            for line in lines:\n",
        "                if line[-1]==\"\\n\":\n",
        "                  box = line[:-1].split(' ')\n",
        "                else:\n",
        "                  box = line.split(' ')\n",
        "\n",
        "                class_id = box[0]\n",
        "                x_c = float(box[1])\n",
        "                y_c = float(box[2])\n",
        "                width = float(box[3])\n",
        "                height = float(box[4])\n",
        "\n",
        "                x1 = (x_c - (width/2)) * img_w\n",
        "                y1 = (y_c - (height/2)) * img_h\n",
        "                x2 = (x_c + (width/2)) * img_w\n",
        "                y2 = (y_c + (height/2)) * img_h\n",
        "\n",
        "                annotation = {\n",
        "                    \"bbox\": list(map(float,[x1, y1, x2, y2])),\n",
        "                    \"bbox_mode\": BoxMode.XYXY_ABS,\n",
        "                    \"category_id\": int(class_id),\n",
        "                    \"iscrowd\": 0\n",
        "                }\n",
        "                annotations.append(annotation)\n",
        "            img_item[\"annotations\"] = annotations\n",
        "        data_list.append(img_item)\n",
        "    return data_list"
      ]
    },
    {
      "cell_type": "code",
      "execution_count": null,
      "metadata": {
        "id": "leS9tCVwPIi2"
      },
      "outputs": [],
      "source": [
        "train_list = create_coco_format(train)\n",
        "val_list = create_coco_format(val)"
      ]
    },
    {
      "cell_type": "markdown",
      "metadata": {
        "id": "bvnJwHdvPJ2j"
      },
      "source": [
        "Registrácia a získanie metadat tréningových a validačných súborov údajov v DatasetCatalogu Detectron2."
      ]
    },
    {
      "cell_type": "code",
      "execution_count": 11,
      "metadata": {
        "id": "zHaz1Po2kLgK"
      },
      "outputs": [],
      "source": [
        "for catalog_name, file_annots in [(\"train\", train_list), (\"val\", val_list)]:\n",
        "    DatasetCatalog.register(catalog_name, lambda file_annots = file_annots: file_annots)\n",
        "    MetadataCatalog.get(catalog_name).set(thing_classes=['meteor', 'satelite']) #Nastavenie vlastnych tried pre metadata súboru údajov"
      ]
    },
    {
      "cell_type": "code",
      "execution_count": 12,
      "metadata": {
        "id": "SkhAI2YjptwH"
      },
      "outputs": [],
      "source": [
        "metadata = MetadataCatalog.get(\"train\")"
      ]
    },
    {
      "cell_type": "code",
      "execution_count": null,
      "metadata": {
        "id": "l8ABGT57PtYX"
      },
      "outputs": [],
      "source": [
        "MetadataCatalog.get(\"val\")"
      ]
    },
    {
      "cell_type": "markdown",
      "metadata": {
        "id": "AUgFdq82citn"
      },
      "source": [
        "# Detectron2: Faster R-CNN R50 FPN konfigurácia. Trénovanie modelu a optimalizácia hyperparametrov."
      ]
    },
    {
      "cell_type": "code",
      "execution_count": null,
      "metadata": {
        "id": "PsroiUcYgjkf"
      },
      "outputs": [],
      "source": [
        "import os\n",
        "import optuna\n",
        "from detectron2.engine import DefaultTrainer\n",
        "from detectron2.config import get_cfg\n",
        "from detectron2 import model_zoo\n",
        "from detectron2.data import build_detection_test_loader\n",
        "from detectron2.evaluation import COCOEvaluator\n",
        "from detectron2.evaluation import inference_on_dataset\n",
        "from optuna.samplers import GridSampler\n",
        "from detectron2.data import MetadataCatalog\n",
        "\n",
        "# Funkcia cieľa pre optimalizáciu Optuna\n",
        "def objective(trial):\n",
        "    # Načítanie konfigurácie Faster R-CNN\n",
        "    cfg = get_cfg()\n",
        "    cfg.merge_from_file(model_zoo.get_config_file(\"COCO-Detection/faster_rcnn_R_50_FPN_3x.yaml\"))\n",
        "\n",
        "    # Nastavenie tréningových a testovacích datasetov\n",
        "    cfg.DATASETS.TRAIN = (\"train\",)\n",
        "    cfg.DATASETS.TEST = (\"val\",)\n",
        "    cfg.DATALOADER.NUM_WORKERS = 8\n",
        "\n",
        "    # Nastavenie počtu vzoriek pre tréning\n",
        "    cfg.SOLVER.IMS_PER_BATCH = 32\n",
        "\n",
        "    # Použitie predtrénovaných váh modelu Faster R-CNN\n",
        "    cfg.MODEL.WEIGHTS = \"detectron2://COCO-Detection/faster_rcnn_R_50_FPN_3x/137849458/model_final_280758.pkl\"\n",
        "\n",
        "    # Používanie GPU pre tréning\n",
        "    cfg.MODEL.DEVICE = 'cuda'\n",
        "\n",
        "    # Konfigurácia hyperparametrov pre optimalizáciu\n",
        "    # BASE_LR: Základná rýchlosť učenia, ovplyvňuje rýchlosť aktualizácie váh počas tréningu\n",
        "    # Možné hodnoty: 0.001, 0.005\n",
        "    cfg.SOLVER.BASE_LR = trial.suggest_categorical('BASE_LR', [0.001, 0.005])\n",
        "\n",
        "    # BATCH_SIZE_PER_IMAGE: Počet príkladov na jeden obrázok pri tréningu\n",
        "    # Vyššie hodnoty môžu zlepšiť generalizáciu, ale môžu tiež spôsobiť pretrénovanie\n",
        "    # Možné hodnoty: 256, 512\n",
        "    cfg.MODEL.ROI_HEADS.BATCH_SIZE_PER_IMAGE = trial.suggest_categorical('BATCH_SIZE_PER_IMAGE', [256, 512])\n",
        "\n",
        "    # FPN_MIN_LEVEL: Najnižšia úroveň vo Feature Pyramid Network (FPN)\n",
        "    # Ovláda minimálnu úroveň detailov, ktoré sa majú použiť v FPN\n",
        "    # Možné hodnoty: 2, 3\n",
        "    cfg.MODEL.FPN.MIN_LEVEL = trial.suggest_categorical('FPN_MIN_LEVEL', [2, 3])\n",
        "\n",
        "    # BOX_REG_LOSS_TYPE: Typ straty pri regresii obmedzujúceho boxu\n",
        "    # 'smooth_l1': štandartna veria\n",
        "    # 'giou': generalizovaný IoU, lepšia miera prekrývania\n",
        "    # Možné hodnoty: 'smooth_l1', 'giou'\n",
        "    cfg.MODEL.ROI_HEADS.BOX_REG_LOSS_TYPE = trial.suggest_categorical('BOX_REG_LOSS_TYPE', ['smooth_l1', 'giou'])\n",
        "\n",
        "    # Ďalšie nastavenia modelu\n",
        "    cfg.SOLVER.MAX_ITER = 80000  # Maximálny počet iterácií (epoch)\n",
        "    cfg.SOLVER.CHECKPOINT_PERIOD = 5000  # Počet iterácií medzi uložením checkpointov\n",
        "    cfg.MODEL.ROI_HEADS.NUM_CLASSES = len(MetadataCatalog.get(\"train\").thing_classes)  # Počet tried objektov\n",
        "    cfg.SOLVER.STEPS = (70000, )\n",
        "\n",
        "    # Vytvorenie adresára pre výstupy\n",
        "    os.makedirs(cfg.OUTPUT_DIR, exist_ok=True)\n",
        "\n",
        "    # Inicializácia trénera a začatie tréningu\n",
        "    trainer = DefaultTrainer(cfg)\n",
        "    trainer.resume_or_load(resume=False)\n",
        "    trainer.train()\n",
        "\n",
        "    # Vyhodnotenie modelu na validačnom datasete pomocou COCOEvaluator\n",
        "    evaluator = COCOEvaluator(\"val\", cfg, False, output_dir=\"./output/\")\n",
        "    val_loader = build_detection_test_loader(cfg, \"val\")\n",
        "    inference_result = inference_on_dataset(trainer.model, val_loader, evaluator)\n",
        "\n",
        "    # Vráti priemernú presnosť (AP) pre detekciu objektov v bouding boxoch\n",
        "    return inference_result[\"bbox\"][\"AP\"]\n",
        "\n",
        "# Definovanie priestoru hľadania pre GridSampler\n",
        "search_space = {\n",
        "    # BASE_LR: Základná rýchlosť učenia (0.001, 0.005)\n",
        "    'BASE_LR': [0.001, 0.005],\n",
        "    # BATCH_SIZE_PER_IMAGE: Počet vzoriek na jeden obrázok (256, 512)\n",
        "    'BATCH_SIZE_PER_IMAGE': [256, 512],\n",
        "    # FPN_MIN_LEVEL: Najnižšia úroveň vo Feature Pyramid Network (2, 3)\n",
        "    'FPN_MIN_LEVEL': [2, 3],\n",
        "    # BOX_REG_LOSS_TYPE: Typ straty pri regresii obmedzujúceho boxu ('smooth_l1', 'giou')\n",
        "    'BOX_REG_LOSS_TYPE': ['smooth_l1', 'giou']\n",
        "}\n",
        "\n",
        "# Inicializácia GridSampler so zadaným priestorom hľadania\n",
        "sampler = GridSampler(search_space)\n",
        "\n",
        "# Vytvorenie štúdie Optuna s cieľom maximalizovať AP\n",
        "study = optuna.create_study(direction='maximize', sampler=sampler)\n",
        "\n",
        "# Spustenie optimalizácie s počtom pokusov rovnakým ako počet všetkých mriežok\n",
        "study.optimize(objective, n_trials=len(sampler._all_grids))\n",
        "\n",
        "# Výpis najlepších parametrov a najlepšieho AP\n",
        "print(\"Best parameters: \", study.best_params)\n",
        "print(\"Best AP: \", study.best_value)\n"
      ]
    },
    {
      "cell_type": "markdown",
      "metadata": {
        "id": "pmqzC0GCczkh"
      },
      "source": [
        "# Príklad inferencií"
      ]
    },
    {
      "cell_type": "code",
      "execution_count": null,
      "metadata": {
        "id": "iY6GbGCiUJ8O"
      },
      "outputs": [],
      "source": [
        "cfg = get_cfg()\n",
        "cfg.merge_from_file(model_zoo.get_config_file(\"COCO-Detection/faster_rcnn_R_50_FPN_3x.yaml\"))\n",
        "cfg.MODEL.DEVICE = 'cuda'\n",
        "cfg.MODEL.ROI_HEADS.NUM_CLASSES = 2\n",
        "cfg.MODEL.WEIGHTS = \"/content/drive/MyDrive/model_faster_rcnn.pth\" #zadanie váhy modelu\n",
        "cfg.MODEL.ROI_HEADS.SCORE_THRESH_TEST = 0.65   # nastaviť testovací prah pre tento model\n",
        "predictor = DefaultPredictor(cfg)"
      ]
    },
    {
      "cell_type": "code",
      "execution_count": null,
      "metadata": {
        "id": "0iBtSQ0eAU8D"
      },
      "outputs": [],
      "source": [
        "MetadataCatalog.get(catalog_name).set(thing_classes=['meteor', 'satelite'])"
      ]
    },
    {
      "cell_type": "code",
      "execution_count": null,
      "metadata": {
        "id": "ER_ZsGm2wY4T"
      },
      "outputs": [],
      "source": [
        "im = cv2.imread(\"./dataset/test/images/\") #cesta k obrázku\n",
        "outputs = predictor(im)\n",
        "v = Visualizer(im, metadata=metadata, scale=1., instance_mode =  ColorMode.IMAGE)\n",
        "\n",
        "v = v.draw_instance_predictions(outputs[\"instances\"].to(\"cpu\"))\n",
        "img = v.get_image()[:,:,[2,1,0]]\n",
        "img = Image.fromarray(img)\n",
        "plt.figure(figsize=(10, 10))\n",
        "plt.imshow(img)"
      ]
    },
    {
      "cell_type": "markdown",
      "metadata": {
        "id": "3ziU3wLMlIa9"
      },
      "source": [
        "# Vyhodnotenie"
      ]
    },
    {
      "cell_type": "code",
      "execution_count": null,
      "metadata": {
        "id": "iTOU7K5ilH6L"
      },
      "outputs": [],
      "source": [
        "cfg = get_cfg()\n",
        "cfg.merge_from_file(model_zoo.get_config_file(\"COCO-Detection/faster_rcnn_R_50_FPN_3x.yaml\"))\n",
        "cfg.MODEL.DEVICE = 'cuda'\n",
        "cfg.MODEL.ROI_HEADS.NUM_CLASSES = 2\n",
        "cfg.MODEL.WEIGHTS = \"/content/drive/MyDrive/model_faster_rcnn.pth\"\n",
        "cfg.MODEL.ROI_HEADS.SCORE_THRESH_TEST = 0.65\n",
        "predictor = DefaultPredictor(cfg)\n",
        "evaluator = COCOEvaluator(\"val\", cfg, False, output_dir=\"./output/\")\n",
        "val_loader = build_detection_test_loader(cfg, \"val\")\n",
        "inference_on_dataset(trainer.model, val_loader, evaluator)"
      ]
    },
    {
      "cell_type": "markdown",
      "metadata": {
        "id": "4ivXT8KETstB"
      },
      "source": [
        "# Inferencia na celom testovacom súbore údajov"
      ]
    },
    {
      "cell_type": "code",
      "execution_count": null,
      "metadata": {
        "id": "PBjO9NLw0NPW"
      },
      "outputs": [],
      "source": [
        "import os\n",
        "import cv2\n",
        "from tqdm import tqdm\n",
        "from PIL import Image\n",
        "import matplotlib.pyplot as plt\n",
        "from detectron2.utils.visualizer import Visualizer, ColorMode\n",
        "from detectron2.data import MetadataCatalog\n",
        "\n",
        "from detectron2.config import get_cfg\n",
        "from detectron2.engine.defaults import DefaultPredictor\n",
        "\n",
        "cfg = get_cfg()\n",
        "cfg.merge_from_file(model_zoo.get_config_file(\"COCO-Detection/faster_rcnn_R_50_FPN_3x.yaml\"))\n",
        "cfg.MODEL.WEIGHTS = \"model/model_faster_rcnn.pth\"\n",
        "cfg.MODEL.ROI_HEADS.SCORE_THRESH_TEST = 0.65\n",
        "cfg.MODEL.ROI_HEADS.NUM_CLASSES = 2\n",
        "\n",
        "predictor = DefaultPredictor(cfg)\n",
        "\n",
        "metadata = MetadataCatalog.get(\"meteory9000\")\n",
        "metadata.set(thing_classes=[\"meteor\", \"satelite\"])\n",
        "\n",
        "input_folder = \"./Meteory_format_YOLOv5_aug/test/images\" #priečinok s obrázkami z testovacej množiny\n",
        "output_folder = \"./output_folder_2\" #adresár pre výstupy\n",
        "\n",
        "if not os.path.exists(output_folder):\n",
        "    os.makedirs(output_folder)\n",
        "\n",
        "image_files = [f for f in os.listdir(input_folder) if f.lower().endswith(('.jpg', '.jpeg', '.png'))]\n",
        "\n",
        "def get_classified_filename(image_name, predictions):\n",
        "    classes = predictions[\"instances\"].pred_classes.cpu().numpy()\n",
        "    class_names = [metadata.thing_classes[cls] for cls in classes]\n",
        "    classified_suffix = \"_\".join(sorted(set(class_names)))\n",
        "    filename, ext = os.path.splitext(image_name)\n",
        "    return f\"{filename}_{classified_suffix}{ext}\"\n",
        "\n",
        "for image_name in tqdm(image_files, desc=\"Processing Images\"):\n",
        "    im = cv2.imread(os.path.join(input_folder, image_name))\n",
        "\n",
        "    outputs = predictor(im)\n",
        "\n",
        "    v = Visualizer(im, metadata=metadata, scale=1.0, instance_mode=ColorMode.IMAGE)\n",
        "    v = v.draw_instance_predictions(outputs[\"instances\"].to(\"cpu\"))\n",
        "    img = v.get_image()[:, :, [2, 1, 0]]\n",
        "\n",
        "    img = Image.fromarray(img)\n",
        "    classified_image_name = get_classified_filename(image_name, outputs)\n",
        "    output_path = os.path.join(output_folder, classified_image_name)\n",
        "    img.save(output_path)\n",
        "\n",
        "\n",
        "print(f\"Processing completed! Results are saved to: {output_folder}\")"
      ]
    }
  ],
  "metadata": {
    "accelerator": "GPU",
    "colab": {
      "gpuType": "T4",
      "machine_shape": "hm",
      "provenance": []
    },
    "kernelspec": {
      "display_name": "Python 3",
      "name": "python3"
    },
    "language_info": {
      "name": "python"
    }
  },
  "nbformat": 4,
  "nbformat_minor": 0
}
