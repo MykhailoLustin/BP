{
 "cells": [
  {
   "cell_type": "markdown",
   "metadata": {
    "id": "s1hcRZfIanDk"
   },
   "source": [
    "# Modelovanie HIC-YOLOv5\n",
    "\n",
    "### Príprava pracovného prostredia pre spustenie HIC-YOLOv5\n",
    "\n",
    "Naklonovanie github repozitára HIC-Yolov5 a spustenie inštalácie pre potrebné knižnice (Aby ste sa vyhli akýmkoľvek chybám, bolo by lepšie klonovať celý repozitár s už stiahnutým HIC-YOLOv5)"
   ]
  },
  {
   "cell_type": "code",
   "execution_count": null,
   "metadata": {
    "id": "9sQd8OBZZbRT"
   },
   "outputs": [],
   "source": [
    "#!git clone https://github.com/Jacoo-ai/HIC-Yolov5"
   ]
  },
  {
   "cell_type": "markdown",
   "metadata": {
    "id": "n8hYVxeoZ7G6"
   },
   "source": [
    "**Poznámka**: aby všetky knižnice a závislosti fungovali správne, musí byť verzia jazyka Python vo vašom prostredí **3.10**"
   ]
  },
  {
   "cell_type": "code",
   "execution_count": null,
   "metadata": {
    "id": "uXf-HiMbZf1g"
   },
   "outputs": [],
   "source": [
    "%cd HIC-YOLOv5\n",
    "%cd HIC-Yolov5\n",
    "!pip install -r requirements.txt\n",
    "!pip install albumentations\n",
    "!pip install timm\n",
    "import torch\n",
    "import utils\n",
    "from utils.dataloaders import *\n",
    "!pip install opencv-contrib-python\n",
    "!pip install cv2\n",
    "display = utils.notebook_init()\n",
    "%cd ..\n",
    "%cd .."
   ]
  },
  {
   "cell_type": "markdown",
   "metadata": {
    "id": "ZyfXgnH5coBR"
   },
   "source": [
    "### Spustenie trénovania modelu\n",
    "\n",
    "\n",
    "Cesty sú relatívne ku priečinku, v ktorom sa práve nachádzame"
   ]
  },
  {
   "cell_type": "code",
   "execution_count": null,
   "metadata": {
    "id": "jqFhPAmJZhAs"
   },
   "outputs": [],
   "source": [
    "!python HIC-YOLOv5/HIC-Yolov5/train.py --img 1280 --batch 8 --rect --epochs 200 --data Meteory_format_YOLOv5_aug/data.yaml --weights HIC-YOLOv5/HIC-Yolov5/yolov5s.pt --cache --cfg HIC-YOLOv5/HIC-Yolov5/models/yolov5s-p2-involution-cbam.yaml --hyp HIC-YOLOv5/hyperparameters/hyps1\n",
    "!python HIC-YOLOv5/HIC-Yolov5/train.py --img 1280 --batch 8 --rect --epochs 200 --data Meteory_format_YOLOv5_aug/data.yaml --weights HIC-YOLOv5/HIC-Yolov5/yolov5s.pt --cache --cfg HIC-YOLOv5/HIC-Yolov5/models/yolov5s-p2-involution-cbam.yaml --hyp HIC-YOLOv5/hyperparameters/hyps2\n",
    "!python HIC-YOLOv5/HIC-Yolov5/train.py --img 1280 --batch 8 --rect --epochs 200 --data Meteory_format_YOLOv5_aug/data.yaml --weights HIC-YOLOv5/HIC-Yolov5/yolov5s.pt --cache --cfg HIC-YOLOv5/HIC-Yolov5/models/yolov5s-p2-involution-cbam.yaml --hyp HIC-YOLOv5/hyperparameters/hyps3\n",
    "!python HIC-YOLOv5/HIC-Yolov5/train.py --img 1280 --batch 8 --rect --epochs 200 --data Meteory_format_YOLOv5_aug/data.yaml --weights HIC-YOLOv5/HIC-Yolov5/yolov5s.pt --cache --cfg HIC-YOLOv5/HIC-Yolov5/models/yolov5s-p2-involution-cbam.yaml --hyp HIC-YOLOv5/hyperparameters/hyps4\n",
    "!python HIC-YOLOv5/HIC-Yolov5/train.py --img 1280 --batch 8 --rect --epochs 200 --data Meteory_format_YOLOv5_aug/data.yaml --weights HIC-YOLOv5/HIC-Yolov5/yolov5s.pt --cache --cfg HIC-YOLOv5/HIC-Yolov5/models/yolov5s-p2-involution-cbam.yaml --hyp HIC-YOLOv5/hyperparameters/hyps5\n",
    "!python HIC-YOLOv5/HIC-Yolov5/train.py --img 1280 --batch 8 --rect --epochs 200 --data Meteory_format_YOLOv5_aug/data.yaml --weights HIC-YOLOv5/HIC-Yolov5/yolov5s.pt --cache --cfg HIC-YOLOv5/HIC-Yolov5/models/yolov5s-p2-involution-cbam.yaml --hyp HIC-YOLOv5/hyperparameters/hyps6\n",
    "!python HIC-YOLOv5/HIC-Yolov5/train.py --img 1280 --batch 8 --rect --epochs 200 --data Meteory_format_YOLOv5_aug/data.yaml --weights HIC-YOLOv5/HIC-Yolov5/yolov5s.pt --cache --cfg HIC-YOLOv5/HIC-Yolov5/models/yolov5s-p2-involution-cbam.yaml --hyp HIC-YOLOv5/hyperparameters/hyps7\n",
    "!python HIC-YOLOv5/HIC-Yolov5/train.py --img 1280 --batch 8 --rect --epochs 200 --data Meteory_format_YOLOv5_aug/data.yaml --weights HIC-YOLOv5/HIC-Yolov5/yolov5s.pt --cache --cfg HIC-YOLOv5/HIC-Yolov5/models/yolov5s-p2-involution-cbam.yaml --hyp HIC-YOLOv5/hyperparameters/hyps8"
   ]
  },
  {
   "cell_type": "markdown",
   "metadata": {
    "id": "ajiIJiFBdVVZ"
   },
   "source": [
    "### Spustenie detekcie\n",
    "\n",
    "\n",
    "Cesty sú relatíve ku priečinku, v ktorom sa práve nachádzame"
   ]
  },
  {
   "cell_type": "code",
   "execution_count": null,
   "metadata": {
    "id": "OOH8jlMoZu-Q"
   },
   "outputs": [],
   "source": [
    "!python HIC-Yolov5/detect.py --weights model/model_hicyolov5.pt --source Meteory_format_YOLOv5_aug/test/images --iou 0.45 --conf 0.3 --img 1280 --save-txt --save-conf"
   ]
  }
 ],
 "metadata": {
  "colab": {
   "provenance": []
  },
  "kernelspec": {
   "display_name": "Python 3",
   "name": "python3"
  },
  "language_info": {
   "name": "python"
  }
 },
 "nbformat": 4,
 "nbformat_minor": 0
}
