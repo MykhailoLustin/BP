{
  "cells": [
    {
      "cell_type": "markdown",
      "metadata": {
        "id": "s1hcRZfIanDk"
      },
      "source": [
        "# Modelovanie HIC-YOLOv5\n",
        "\n",
        "### Príprava pracovného prostredia pre spustenie HIC-YOLOv5\n",
        "\n",
        "Naklonovanie github repozitára HIC-Yolov5 a spustenie inštalácie pre potrebné knižnice"
      ]
    },
    {
      "cell_type": "code",
      "execution_count": null,
      "metadata": {
        "id": "9sQd8OBZZbRT"
      },
      "outputs": [],
      "source": [
        "!git clone https://github.com/Jacoo-ai/HIC-Yolov5"
      ]
    },
    {
      "cell_type": "markdown",
      "metadata": {
        "id": "n8hYVxeoZ7G6"
      },
      "source": [
        "**Poznámka**: aby všetky knižnice a závislosti fungovali správne, musí byť verzia jazyka Python vo vašom prostredí **3.6**"
      ]
    },
    {
      "cell_type": "code",
      "execution_count": null,
      "metadata": {
        "id": "uXf-HiMbZf1g"
      },
      "outputs": [],
      "source": [
        "%cd HIC-Yolov5\n",
        "!pip install -r requirements.txt\n",
        "!pip install albumentations\n",
        "!pip install timm\n",
        "!pip uninstall numpy -y\n",
        "!pip install numpy==1.19\n",
        "import torch\n",
        "import utils\n",
        "from utils.dataloaders import *\n",
        "!pip install opencv-contrib-python\n",
        "!pip install cv2\n",
        "display = utils.notebook_init()\n",
        "%cd .."
      ]
    },
    {
      "cell_type": "markdown",
      "metadata": {
        "id": "ZyfXgnH5coBR"
      },
      "source": [
        "### Spustenie trénovania modelu\n",
        "\n",
        "\n",
        "Cesty sú relatívne ku priečinku, v ktorom sa práve nachádzame"
      ]
    },
    {
      "cell_type": "code",
      "execution_count": null,
      "metadata": {
        "id": "jqFhPAmJZhAs"
      },
      "outputs": [],
      "source": [
        "!python HIC-Yolov5/train.py --img 1280 --batch 8 --rect --epochs 200 --data Meteory_format_YOLOv5/data.yaml --weights HIC-Yolov5/yolov5s.pt --cache --cfg HIC-Yolov5/models/yolov5s-p2-involution-cbam.yaml --hyp hyperparameters/hyps1\n",
        "!python HIC-Yolov5/train.py --img 1280 --batch 8 --rect --epochs 200 --data Meteory_format_YOLOv5/data.yaml --weights HIC-Yolov5/yolov5s.pt --cache --cfg HIC-Yolov5/models/yolov5s-p2-involution-cbam.yaml --hyp hyperparameters/hyps2\n",
        "!python HIC-Yolov5/train.py --img 1280 --batch 8 --rect --epochs 200 --data Meteory_format_YOLOv5/data.yaml --weights HIC-Yolov5/yolov5s.pt --cache --cfg HIC-Yolov5/models/yolov5s-p2-involution-cbam.yaml --hyp hyperparameters/hyps3\n",
        "!python HIC-Yolov5/train.py --img 1280 --batch 8 --rect --epochs 200 --data Meteory_format_YOLOv5/data.yaml --weights HIC-Yolov5/yolov5s.pt --cache --cfg HIC-Yolov5/models/yolov5s-p2-involution-cbam.yaml --hyp hyperparameters/hyps4\n",
        "!python HIC-Yolov5/train.py --img 1280 --batch 8 --rect --epochs 200 --data Meteory_format_YOLOv5/data.yaml --weights HIC-Yolov5/yolov5s.pt --cache --cfg HIC-Yolov5/models/yolov5s-p2-involution-cbam.yaml --hyp hyperparameters/hyps5\n",
        "!python HIC-Yolov5/train.py --img 1280 --batch 8 --rect --epochs 200 --data Meteory_format_YOLOv5/data.yaml --weights HIC-Yolov5/yolov5s.pt --cache --cfg HIC-Yolov5/models/yolov5s-p2-involution-cbam.yaml --hyp hyperparameters/hyps6\n",
        "!python HIC-Yolov5/train.py --img 1280 --batch 8 --rect --epochs 200 --data Meteory_format_YOLOv5/data.yaml --weights HIC-Yolov5/yolov5s.pt --cache --cfg HIC-Yolov5/models/yolov5s-p2-involution-cbam.yaml --hyp hyperparameters/hyps7\n",
        "!python HIC-Yolov5/train.py --img 1280 --batch 8 --rect --epochs 200 --data Meteory_format_YOLOv5/data.yaml --weights HIC-Yolov5/yolov5s.pt --cache --cfg HIC-Yolov5/models/yolov5s-p2-involution-cbam.yaml --hyp hyperparameters/hyps8"
      ]
    },
    {
      "cell_type": "markdown",
      "metadata": {
        "id": "ajiIJiFBdVVZ"
      },
      "source": [
        "### Spustenie detekcie\n",
        "\n",
        "\n",
        "Cesty sú relatíve ku priečinku, v ktorom sa práve nachádzame"
      ]
    },
    {
      "cell_type": "code",
      "execution_count": null,
      "metadata": {
        "id": "OOH8jlMoZu-Q"
      },
      "outputs": [],
      "source": [
        "!python HIC-Yolov5/detect.py --weights model/model_hicyolov5.pt --source Meteory_format_YOLOv5/test/images --iou 0.45 --conf 0.3 --img 1280 --save-txt --save-conf"
      ]
    }
  ],
  "metadata": {
    "colab": {
      "provenance": []
    },
    "kernelspec": {
      "display_name": "Python 3",
      "name": "python3"
    },
    "language_info": {
      "name": "python"
    }
  },
  "nbformat": 4,
  "nbformat_minor": 0
}
