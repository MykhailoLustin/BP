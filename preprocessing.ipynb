{
 "cells": [
  {
   "cell_type": "markdown",
   "id": "997419d9-e51c-449f-a2c7-01e4a19a3cf9",
   "metadata": {},
   "source": [
    "# Príprava dát"
   ]
  },
  {
   "cell_type": "markdown",
   "id": "a49d25bd-9185-43c7-a9e7-ea8e435cb696",
   "metadata": {},
   "source": [
    "### Poznámka: notebook bol spustený na verzii Python 3.10. Všetky cesty v notebooku sú relatívne k priečinku, v ktorom sa nachádzate."
   ]
  },
  {
   "cell_type": "markdown",
   "id": "1ff62f10-d774-4c6e-bc3e-ef3f6842eead",
   "metadata": {},
   "source": [
    "### Import,stiahnutie všetkých potrebných knižníc a rozbalenie archívu"
   ]
  },
  {
   "cell_type": "markdown",
   "id": "1bebe167-1647-445f-9b15-0d84abf4ed8c",
   "metadata": {
    "jupyter": {
     "outputs_hidden": true
    },
    "tags": []
   },
   "source": [
    "!pip install pylabel"
   ]
  },
  {
   "cell_type": "code",
   "execution_count": 1,
   "id": "0ee2ca3c-13d4-4069-9530-30dc816e8f96",
   "metadata": {},
   "outputs": [],
   "source": [
    "import os\n",
    "import shutil\n",
    "import xml.etree.ElementTree as ET\n",
    "from PIL import Image\n",
    "import numpy as np\n",
    "import IPython\n",
    "import json\n",
    "import os\n",
    "import json\n",
    "import csv\n",
    "import time\n",
    "from pathlib import Path\n",
    "from pylabel import importer"
   ]
  },
  {
   "cell_type": "code",
   "execution_count": null,
   "id": "af998eb9-132d-47c7-86d9-41f3028ab7b6",
   "metadata": {
    "collapsed": true,
    "jupyter": {
     "outputs_hidden": true
    },
    "tags": []
   },
   "outputs": [],
   "source": [
    "!unzip Meteory.zip"
   ]
  },
  {
   "cell_type": "markdown",
   "id": "67580a21-e37c-44a3-8da7-09c96c0778d7",
   "metadata": {},
   "source": [
    "### Rozdelenie údajov na trénovaciu, validačnú a testovaciu množinu"
   ]
  },
  {
   "cell_type": "code",
   "execution_count": null,
   "id": "09c25b73-7c22-4311-919f-40318843ec1a",
   "metadata": {
    "tags": []
   },
   "outputs": [],
   "source": [
    "base_path = 'Meteory'\n",
    "folders = ['train', 'val', 'test']\n",
    "\n",
    "for folder in folders:\n",
    "    os.makedirs(os.path.join(base_path, folder), exist_ok=True)\n",
    "\n",
    "for folder in folders:\n",
    "    file_path = os.path.join(base_path, f\"{folder}.txt\")\n",
    "    \n",
    "    with open(file_path, 'r') as file:\n",
    "        for line in file:\n",
    "            image_path = line.strip()\n",
    "            \n",
    "            if image_path.startswith('./'):\n",
    "                image_path = image_path[2:]\n",
    "                \n",
    "            full_image_path = os.path.join(base_path, image_path)\n",
    "            dest_path = os.path.join(base_path, folder, os.path.basename(image_path))\n",
    "            \n",
    "            if os.path.exists(full_image_path):\n",
    "                shutil.move(full_image_path, dest_path)\n",
    "                print(f\"Photo {full_image_path} moved to {dest_path}\")\n",
    "            else:\n",
    "                print(f\"File not found: {full_image_path}\")\n"
   ]
  },
  {
   "cell_type": "markdown",
   "id": "bc4dbd12-b4c2-4ad6-8744-4402b2044eac",
   "metadata": {},
   "source": [
    "### Použitie horizotálneho prevrátenia "
   ]
  },
  {
   "cell_type": "code",
   "execution_count": null,
   "id": "959796fb-3f35-42fb-aea8-6b437fc86232",
   "metadata": {
    "collapsed": true,
    "jupyter": {
     "outputs_hidden": true
    },
    "tags": []
   },
   "outputs": [],
   "source": [
    "#horizontalne prevratenie\n",
    "base_path = 'Meteory/train'\n",
    "\n",
    "for filename in os.listdir(base_path):\n",
    "    if filename.endswith(\".jpg\"): \n",
    "        original_path = os.path.join(base_path, filename)\n",
    "\n",
    "        with Image.open(original_path) as img:\n",
    "            flipped_img = img.transpose(Image.FLIP_LEFT_RIGHT)\n",
    "\n",
    "            flipped_path = os.path.join(base_path, f\"flipped_{filename}\")\n",
    "\n",
    "            flipped_img.save(flipped_path)\n",
    "\n",
    "            print(f\"Rotated photo saved: {flipped_path}\")\n"
   ]
  },
  {
   "cell_type": "markdown",
   "id": "40f66450-5593-418d-a4f4-286ee3446748",
   "metadata": {},
   "source": [
    "### Vytváranie anotácií pre prevrátené obrázky"
   ]
  },
  {
   "cell_type": "code",
   "execution_count": null,
   "id": "fa134bc5-127d-4a32-b28c-2160e8ebf5a1",
   "metadata": {
    "collapsed": true,
    "jupyter": {
     "outputs_hidden": true
    },
    "tags": []
   },
   "outputs": [],
   "source": [
    "#vytvorenie labelov pre prevratene obrazky\n",
    "\n",
    "labels_path = 'Meteory/labels'\n",
    "images_path = 'Meteory/train'\n",
    "\n",
    "flipped_images = {file.replace('flipped_', '').replace('.jpg', '') for file in os.listdir(images_path) if 'flipped_' in file}\n",
    "\n",
    "for filename in os.listdir(labels_path):\n",
    "    if filename.replace('.txt', '') in flipped_images:\n",
    "        with open(os.path.join(labels_path, filename), 'r') as file:\n",
    "            lines = file.readlines()\n",
    "\n",
    "\n",
    "        with open(os.path.join(labels_path, f\"flipped_{filename}\"), 'w') as new_file:\n",
    "\n",
    "            for line in lines:\n",
    "                parts = line.split()\n",
    "                if len(parts) >= 5:\n",
    "\n",
    "                    x = float(parts[1])\n",
    "                    new_x = 1 - x\n",
    "\n",
    "                    new_line = f\"{parts[0]} {new_x:.5f} {parts[2]} {parts[3]} {parts[4]}\\n\"\n",
    "                    new_file.write(new_line)\n",
    "            \n",
    "            print(f\"Changed annot saved in: {new_file.name}\")\n"
   ]
  },
  {
   "cell_type": "markdown",
   "id": "8cd6b78d-737a-4932-996b-b5cce9f26b80",
   "metadata": {},
   "source": [
    "### Vytvorenie súboru údajov, ktorý sa používa pri tréningu HIC-YOLOv5 a YOLO-NAS"
   ]
  },
  {
   "cell_type": "code",
   "execution_count": null,
   "id": "a5dbf679-65e8-4b69-ac00-e1cd1c13ee60",
   "metadata": {
    "collapsed": true,
    "jupyter": {
     "outputs_hidden": true
    },
    "tags": []
   },
   "outputs": [],
   "source": [
    "base_source = 'Meteory'\n",
    "base_dataset = 'Meteory_format_YOLOv5_aug'\n",
    "folders = ['train', 'test', 'val']\n",
    "\n",
    "\n",
    "for folder in folders:\n",
    "    images_path = os.path.join(base_dataset, folder, 'images')\n",
    "    labels_path = os.path.join(base_dataset, folder, 'labels')\n",
    "    os.makedirs(images_path, exist_ok=True)\n",
    "    os.makedirs(labels_path, exist_ok=True)\n",
    "\n",
    "\n",
    "for folder in folders:\n",
    "    images_source = os.path.join(base_source, folder)\n",
    "    labels_source = os.path.join(base_source, 'labels')\n",
    "    images_dest = os.path.join(base_dataset, folder, 'images')\n",
    "    labels_dest = os.path.join(base_dataset, folder, 'labels')\n",
    "    \n",
    "\n",
    "    for image_file in os.listdir(images_source):\n",
    "        source_image_path = os.path.join(images_source, image_file)\n",
    "        dest_image_path = os.path.join(images_dest, image_file)\n",
    "        \n",
    "        if os.path.isfile(source_image_path):\n",
    "            shutil.copy2(source_image_path, dest_image_path)\n",
    "            \n",
    "\n",
    "            label_file = os.path.splitext(image_file)[0] + '.txt'\n",
    "            source_label_path = os.path.join(labels_source, label_file)\n",
    "            dest_label_path = os.path.join(labels_dest, label_file)\n",
    "            \n",
    "            if os.path.isfile(source_label_path):\n",
    "                shutil.copy2(source_label_path, dest_label_path)\n",
    "                print(f\"Copied {source_image_path} and {source_label_path} to {images_dest} and {labels_dest}\")\n",
    "\n",
    "print(\"All files have been copied successfully.\")\n"
   ]
  },
  {
   "cell_type": "markdown",
   "id": "86661c22-061f-4db0-baf3-16d096f0cee1",
   "metadata": {},
   "source": [
    "### !!!V tejto fáze musíte vytvoriť súbor data.yaml v priečinku Meteory_format_YOLOv5_aug, aby YOLO fungovalo správne, vyzerá takto:"
   ]
  },
  {
   "cell_type": "raw",
   "id": "16ded201-6f1f-4f61-900e-37be86af8fe3",
   "metadata": {},
   "source": [
    "names:\n",
    "- meteor\n",
    "- satelite\n",
    "\n",
    "nc: 2\n",
    "test: ../test/images\n",
    "train: Meteory_format_YOLOv5_aug/train/images\n",
    "val: Meteory_format_YOLOv5_aug/val/images"
   ]
  },
  {
   "cell_type": "markdown",
   "id": "c60f7735-7a07-4de5-b8a7-7b08231aff37",
   "metadata": {},
   "source": [
    "## Vytváranie anotácií COCO"
   ]
  },
  {
   "cell_type": "code",
   "execution_count": 16,
   "id": "0718148d-0e72-470b-a5aa-a06ebd1b9bda",
   "metadata": {},
   "outputs": [],
   "source": [
    "!mkdir Meteory_format_COCO_aug\n",
    "!mkdir Meteory_format_COCO_aug/train\n",
    "!mkdir Meteory_format_COCO_aug/test\n",
    "!mkdir Meteory_format_COCO_aug/valid"
   ]
  },
  {
   "cell_type": "markdown",
   "id": "330f116b-800d-49a9-b20b-bdcaac9180d3",
   "metadata": {},
   "source": [
    "### Vytvorenie samotných súborov JSON s anotáciami obrázkov, ktoré sú anotáciami COCO"
   ]
  },
  {
   "cell_type": "code",
   "execution_count": null,
   "id": "df67d642-4295-42d6-8524-798e29f6d7d4",
   "metadata": {
    "collapsed": true,
    "jupyter": {
     "outputs_hidden": true
    },
    "tags": []
   },
   "outputs": [],
   "source": [
    "path_to_annotations = \"Meteory_format_YOLOv5/train/labels\"\n",
    "path_to_images = \"Meteory_format_YOLOv5/train/images\"\n",
    "yoloclasses = ['meteor', 'satelite']\n",
    "dataset = importer.ImportYoloV5(path=path_to_annotations, path_to_images=path_to_images, cat_names=yoloclasses,\n",
    "    img_ext=\"jpg\", name=\"coco128\")\n",
    "dataset.export.ExportToCoco(cat_id_index=1)"
   ]
  },
  {
   "cell_type": "code",
   "execution_count": null,
   "id": "f3351c1a-5b3a-4d0d-854d-fbbc13c34f35",
   "metadata": {},
   "outputs": [],
   "source": [
    "path_to_annotations = \"Meteory_format_YOLOv5/val/labels\"\n",
    "path_to_images = \"Meteory_format_YOLOv5/val/images\"\n",
    "yoloclasses = ['meteor', 'satelite']\n",
    "dataset = importer.ImportYoloV5(path=path_to_annotations, path_to_images=path_to_images, cat_names=yoloclasses,\n",
    "    img_ext=\"jpg\", name=\"coco128\")\n",
    "dataset.export.ExportToCoco(cat_id_index=1)"
   ]
  },
  {
   "cell_type": "code",
   "execution_count": null,
   "id": "af9c5acd-1ebc-4d0d-bf74-ba9328d806f9",
   "metadata": {},
   "outputs": [],
   "source": [
    "path_to_annotations = \"Meteory_format_YOLOv5/test/labels\"\n",
    "path_to_images = \"Meteory_format_YOLOv5/test/images\"\n",
    "yoloclasses = ['meteor', 'satelite']\n",
    "dataset = importer.ImportYoloV5(path=path_to_annotations, path_to_images=path_to_images, cat_names=yoloclasses,\n",
    "    img_ext=\"jpg\", name=\"coco128\")\n",
    "dataset.export.ExportToCoco(cat_id_index=1)"
   ]
  },
  {
   "cell_type": "code",
   "execution_count": null,
   "id": "574620a5-48c3-46ae-b644-1a52d160a241",
   "metadata": {},
   "outputs": [],
   "source": [
    "!cp dataset/test/labels/coco128.json Meteory_format_COCO_aug/test\n",
    "!cp dataset/train/labels/coco128.json Meteory_format_COCO_aug/train\n",
    "!cp dataset/valid/labels/coco128.json Meteory_format_COCO_aug/valid"
   ]
  },
  {
   "cell_type": "code",
   "execution_count": null,
   "id": "6aa0cb8d-be12-49f5-aa0f-707b93711358",
   "metadata": {},
   "outputs": [],
   "source": [
    "old_name_train = \"Meteory_format_COCO_aug/train/coco128.json\"\n",
    "new_name_train = \"Meteory_format_COCO_aug/train/_annotations.coco\"\n",
    "\n",
    "old_name_valid = \"Meteory_format_COCO_aug/valid/coco128.json\"\n",
    "new_name_valid = \"Meteory_format_COCO_aug/valid/_annotations.coco\"\n",
    "\n",
    "old_name_test = \"Meteory_format_COCO_aug/test/coco128.json\"\n",
    "new_name_test = \"Meteory_format_COCO_aug/test/_annotations.coco\"\n",
    "\n",
    "os.rename(old_name_train, new_name_train)\n",
    "os.rename(old_name_valid, new_name_valid)\n",
    "os.rename(old_name_test, new_name_test)"
   ]
  },
  {
   "cell_type": "code",
   "execution_count": null,
   "id": "0f6079e8-c4f0-4230-8777-6649601f814e",
   "metadata": {},
   "outputs": [],
   "source": [
    "source_dirs = {\n",
    "    \"train\": \"Meteory_format_YOLOv5_aug/train/images\",\n",
    "    \"valid\": \"Meteory_format_YOLOv5_aug/val/images\",\n",
    "    \"test\": \"Meteory_format_YOLOv5_aug/test/images\"\n",
    "}\n",
    "\n",
    "target_dirs = {\n",
    "    \"train\": \"Meteory_format_COCO_aug/train\",\n",
    "    \"valid\": \"Meteory_format_COCO_aug/valid\",\n",
    "    \"test\": \"Meteory_format_COCO_aug/test\"\n",
    "}\n",
    "\n",
    "\n",
    "def copy_files(source_dir, target_dir):\n",
    "    if not os.path.exists(target_dir):\n",
    "        os.makedirs(target_dir)\n",
    "    \n",
    "    for filename in os.listdir(source_dir):\n",
    "        source_file = os.path.join(source_dir, filename)\n",
    "        target_file = os.path.join(target_dir, filename)\n",
    "        \n",
    "        if os.path.isfile(source_file):\n",
    "            shutil.copy2(source_file, target_file)\n",
    "\n",
    "for key in source_dirs:\n",
    "    copy_files(source_dirs[key], target_dirs[key])\n",
    "print(\"Copied\")\n"
   ]
  }
 ],
 "metadata": {
  "kernelspec": {
   "display_name": "Python 3 (ipykernel)",
   "language": "python",
   "name": "python3"
  },
  "language_info": {
   "codemirror_mode": {
    "name": "ipython",
    "version": 3
   },
   "file_extension": ".py",
   "mimetype": "text/x-python",
   "name": "python",
   "nbconvert_exporter": "python",
   "pygments_lexer": "ipython3",
   "version": "3.10.6"
  }
 },
 "nbformat": 4,
 "nbformat_minor": 5
}
