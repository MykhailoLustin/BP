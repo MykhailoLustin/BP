{
  "cells": [
    {
      "cell_type": "markdown",
      "metadata": {
        "id": "lkYPlZfsbZT0"
      },
      "source": [
        "## Inštalácia YOLO-NAS\n"
      ]
    },
    {
      "cell_type": "code",
      "execution_count": null,
      "metadata": {
        "id": "SdQ5JGblbJTk"
      },
      "outputs": [],
      "source": [
        "!pip install -q git+https://github.com/Deci-AI/super-gradients.git@stable\n",
        "!pip install -q roboflow\n",
        "!pip install -q supervision"
      ]
    },
    {
      "cell_type": "markdown",
      "metadata": {
        "id": "DYquuiomg63H"
      },
      "source": [
        "**Poznámka:** Aby sme si uľahčili prácu so súbormi údajov, obrázkami a modelmi, vytvoríme konštantu `HOME`."
      ]
    },
    {
      "cell_type": "code",
      "execution_count": 2,
      "metadata": {
        "colab": {
          "base_uri": "https://localhost:8080/"
        },
        "id": "gyUQ1xT5ijdY",
        "outputId": "68d2fa7b-8e3b-467d-9322-cc8d48a20bae"
      },
      "outputs": [
        {
          "name": "stdout",
          "output_type": "stream",
          "text": [
            "/content\n"
          ]
        }
      ],
      "source": [
        "import os\n",
        "HOME = os.getcwd()\n",
        "print(HOME)"
      ]
    },
    {
      "cell_type": "markdown",
      "metadata": {
        "id": "V7nWfKUjZCpL"
      },
      "source": [
        "Tento kód overuje dostupnosť GPU a nastavuje zariadenie na 'cuda', ak je k dispozícii. Následne definuje architektúru modelu YOLO-NAS 'yolo_nas_l'."
      ]
    },
    {
      "cell_type": "code",
      "execution_count": 3,
      "metadata": {
        "id": "xh_YA7Z4k0jd"
      },
      "outputs": [],
      "source": [
        "import torch\n",
        "\n",
        "DEVICE = 'cuda' if torch.cuda.is_available() else \"cpu\"\n",
        "MODEL_ARCH = 'yolo_nas_l'"
      ]
    },
    {
      "cell_type": "code",
      "execution_count": 4,
      "metadata": {
        "colab": {
          "base_uri": "https://localhost:8080/",
          "height": 35
        },
        "id": "2W7Tlk74djos",
        "outputId": "2f18b47f-e105-4d7e-f95f-52eabd6adf3a"
      },
      "outputs": [
        {
          "data": {
            "application/vnd.google.colaboratory.intrinsic+json": {
              "type": "string"
            },
            "text/plain": [
              "'/content/data'"
            ]
          },
          "execution_count": 4,
          "metadata": {},
          "output_type": "execute_result"
        }
      ],
      "source": [
        "f\"{HOME}/data\""
      ]
    },
    {
      "cell_type": "markdown",
      "metadata": {
        "id": "pONewmNCa6rG"
      },
      "source": [
        "Nastavenie cesty k súboru údajov pomocou premennej `LOCATION` a tried súboru údajov pomocou premennej `CLASSES`"
      ]
    },
    {
      "cell_type": "code",
      "execution_count": null,
      "metadata": {
        "id": "y6IjTSfetvTl"
      },
      "outputs": [],
      "source": [
        "LOCATION = f\"Meteory_format_YOLOv5_aug\"\n",
        "print(\"location:\", LOCATION)\n",
        "CLASSES = ['meteor', 'satelite']\n",
        "print(\"classes:\", CLASSES)"
      ]
    },
    {
      "cell_type": "markdown",
      "metadata": {
        "id": "chwFA8qHf45f"
      },
      "source": [
        "## Príprava dát do vhodného formátu\n",
        "`ckpt_root_dir` - toto je adresár, do ktorého sa budú ukladať výsledky všetkých  experimentov\n",
        "\n",
        "`experiment_name` - názov experimentu"
      ]
    },
    {
      "cell_type": "code",
      "execution_count": 11,
      "metadata": {
        "id": "pCW34CVDHuKr"
      },
      "outputs": [],
      "source": [
        "BATCH_SIZE = 16\n",
        "MAX_EPOCHS = 200\n",
        "CHECKPOINT_DIR = f'yolo_nas_checkpoints'\n",
        "EXPERIMENT_NAME = f'yolo_nas_models'"
      ]
    },
    {
      "cell_type": "code",
      "execution_count": null,
      "metadata": {
        "id": "sGBOHyPc11LA"
      },
      "outputs": [],
      "source": [
        "from super_gradients.training import Trainer\n",
        "\n",
        "trainer = Trainer(experiment_name=EXPERIMENT_NAME, ckpt_root_dir=CHECKPOINT_DIR)"
      ]
    },
    {
      "cell_type": "markdown",
      "metadata": {
        "id": "SY8JlQG4c8eA"
      },
      "source": [
        "Definovanie ciest k tréningovým, validačným a testovacím súborom."
      ]
    },
    {
      "cell_type": "code",
      "execution_count": null,
      "metadata": {
        "id": "0K0strkSsae3"
      },
      "outputs": [],
      "source": [
        "dataset_params = {\n",
        "    'data_dir': LOCATION,\n",
        "    'train_images_dir':'train/images',\n",
        "    'train_labels_dir':'train/labels',\n",
        "    'val_images_dir':'valid/images',\n",
        "    'val_labels_dir':'valid/labels',\n",
        "    'test_images_dir':'test/images',\n",
        "    'test_labels_dir':'test/labels',\n",
        "    'classes': CLASSES\n",
        "}"
      ]
    },
    {
      "cell_type": "markdown",
      "metadata": {
        "id": "9oDLsA4fc9Yy"
      },
      "source": [
        "Príprava údajov na trénovanie, validáciu a testovanie modelu detekcie objektov na základe súboru údajov vo formáte kompatibilnom s YOLO."
      ]
    },
    {
      "cell_type": "code",
      "execution_count": null,
      "metadata": {
        "id": "INjHea8ptAtQ"
      },
      "outputs": [],
      "source": [
        "from super_gradients.training.dataloaders.dataloaders import (\n",
        "    coco_detection_yolo_format_train, coco_detection_yolo_format_val)\n",
        "\n",
        "train_data = coco_detection_yolo_format_train(\n",
        "    dataset_params={\n",
        "        'data_dir': dataset_params['data_dir'],\n",
        "        'images_dir': dataset_params['train_images_dir'],\n",
        "        'labels_dir': dataset_params['train_labels_dir'],\n",
        "        'classes': dataset_params['classes']\n",
        "    },\n",
        "    dataloader_params={\n",
        "        'batch_size': BATCH_SIZE,\n",
        "        'num_workers': 2\n",
        "    }\n",
        ")\n",
        "\n",
        "val_data = coco_detection_yolo_format_val(\n",
        "    dataset_params={\n",
        "        'data_dir': dataset_params['data_dir'],\n",
        "        'images_dir': dataset_params['val_images_dir'],\n",
        "        'labels_dir': dataset_params['val_labels_dir'],\n",
        "        'classes': dataset_params['classes']\n",
        "    },\n",
        "    dataloader_params={\n",
        "        'batch_size': BATCH_SIZE,\n",
        "        'num_workers': 2\n",
        "    }\n",
        ")\n",
        "\n",
        "test_data = coco_detection_yolo_format_val(\n",
        "    dataset_params={\n",
        "        'data_dir': dataset_params['data_dir'],\n",
        "        'images_dir': dataset_params['test_images_dir'],\n",
        "        'labels_dir': dataset_params['test_labels_dir'],\n",
        "        'classes': dataset_params['classes']\n",
        "    },\n",
        "    dataloader_params={\n",
        "        'batch_size': BATCH_SIZE,\n",
        "        'num_workers': 2\n",
        "    }\n",
        ")"
      ]
    },
    {
      "cell_type": "markdown",
      "metadata": {
        "id": "0QOZ87k9PxIo"
      },
      "source": [
        "### Vytvorenie inštancie modelu"
      ]
    },
    {
      "cell_type": "code",
      "execution_count": null,
      "metadata": {
        "id": "GyijtlTLxAsU"
      },
      "outputs": [],
      "source": [
        "from super_gradients.training import models\n",
        "import supervision as sv\n",
        "import cv2\n",
        "\n",
        "model = models.get(\n",
        "    MODEL_ARCH,\n",
        "    num_classes=len(dataset_params['classes']),\n",
        "    pretrained_weights=\"coco\"\n",
        ")"
      ]
    },
    {
      "cell_type": "markdown",
      "metadata": {
        "id": "Na-z81wwdlPp"
      },
      "source": [
        "\n",
        "`checkpoint_path` - nastavenie cesty ku kontrolnému bodu, v prípade, že začíname trénovať s predtrénovaným modelom"
      ]
    },
    {
      "cell_type": "code",
      "execution_count": null,
      "metadata": {
        "id": "RmFRxSS_dl0c"
      },
      "outputs": [],
      "source": [
        "from super_gradients.training import models\n",
        "import supervision as sv\n",
        "import cv2\n",
        "\n",
        "checkpoint_path = 'model/model_yolonas.pth'\n",
        "checkpoint = torch.load(checkpoint_path, map_location=DEVICE)\n",
        "\n",
        "model_weights = checkpoint['net']\n",
        "\n",
        "model = models.get(MODEL_ARCH, num_classes=2, pretrained_weights=None).to(DEVICE)\n",
        "model.load_state_dict(model_weights)"
      ]
    },
    {
      "cell_type": "markdown",
      "metadata": {
        "id": "YTr4yUNyPOQt"
      },
      "source": [
        "### Definovanie metrík, nastavení a cieľových metrík"
      ]
    },
    {
      "cell_type": "code",
      "execution_count": null,
      "metadata": {
        "id": "9zwM8lqxyjbm"
      },
      "outputs": [],
      "source": [
        "from super_gradients.training.losses import PPYoloELoss\n",
        "from super_gradients.training.metrics import DetectionMetrics_050\n",
        "from super_gradients.training.models.detection_models.pp_yolo_e import PPYoloEPostPredictionCallback\n",
        "\n",
        "train_params = {\n",
        "    'silent_mode': False,\n",
        "    \"average_best_models\":True,\n",
        "    \"warmup_mode\": \"linear_epoch_step\",\n",
        "    \"warmup_initial_lr\": 1e-6,\n",
        "    \"lr_warmup_epochs\": 3,\n",
        "    \"initial_lr\": 5e-4,\n",
        "    \"lr_mode\": \"cosine\",\n",
        "    \"cosine_final_lr_ratio\": 0.1,\n",
        "    \"optimizer\": \"SGD\",\n",
        "    \"optimizer_params\": {\"weight_decay\": 0.0001, \"lr\": 0.001},\n",
        "    \"zero_weight_decay_on_bias_and_bn\": True,\n",
        "    \"ema\": True,\n",
        "    \"ema_params\": {\"decay\": 0.9, \"decay_type\": \"threshold\"},\n",
        "    \"max_epochs\": MAX_EPOCHS,\n",
        "    \"mixed_precision\": True,\n",
        "    \"loss\": PPYoloELoss(\n",
        "        use_static_assigner=False,\n",
        "        num_classes=len(dataset_params['classes']),\n",
        "        reg_max=16\n",
        "    ),\n",
        "    \"valid_metrics_list\": [\n",
        "        DetectionMetrics_050(\n",
        "            score_thres=0.1,\n",
        "            top_k_predictions=300,\n",
        "            num_cls=len(dataset_params['classes']),\n",
        "            normalize_targets=True,\n",
        "            post_prediction_callback=PPYoloEPostPredictionCallback(\n",
        "                score_threshold=0.01,\n",
        "                nms_top_k=1000,\n",
        "                max_predictions=300,\n",
        "                nms_threshold=0.7\n",
        "            )\n",
        "        )\n",
        "    ],\n",
        "    \"metric_to_watch\": 'mAP@0.50'\n",
        "}"
      ]
    },
    {
      "cell_type": "markdown",
      "metadata": {
        "id": "yHKsBDTlPk1d"
      },
      "source": [
        "### Spustenie tréningu modelu YOLO-NAS"
      ]
    },
    {
      "cell_type": "code",
      "execution_count": null,
      "metadata": {
        "collapsed": true,
        "id": "1mz05df_yx9b"
      },
      "outputs": [],
      "source": [
        "trainer.train(\n",
        "    model=model,\n",
        "    training_params=train_params,\n",
        "    train_loader=train_data,\n",
        "    valid_loader=val_data\n",
        ")"
      ]
    },
    {
      "cell_type": "markdown",
      "metadata": {
        "id": "o0Lkok3TKueg"
      },
      "source": [
        "## Načítanie natrénovaného modelu\n",
        "\n",
        "`checkpoint_path` - cesta k hotovému modelu\n"
      ]
    },
    {
      "cell_type": "code",
      "execution_count": null,
      "metadata": {
        "id": "Al1R2UQ5y5tk"
      },
      "outputs": [],
      "source": [
        "best_model = models.get(\n",
        "    'yolo_nas_l',\n",
        "    num_classes=len(dataset_params['classes']),\n",
        "    checkpoint_path=f\"model/model_yolonas.pth\"\n",
        ").to(DEVICE)"
      ]
    },
    {
      "cell_type": "markdown",
      "metadata": {
        "id": "kCLMU8PEKzvf"
      },
      "source": [
        "## Validácia modelu"
      ]
    },
    {
      "cell_type": "code",
      "execution_count": null,
      "metadata": {
        "id": "figss_6TJvAj"
      },
      "outputs": [],
      "source": [
        "trainer.test(\n",
        "    model=best_model,\n",
        "    test_loader=val_data,\n",
        "    test_metrics_list=DetectionMetrics_050(\n",
        "        score_thres=0.1,\n",
        "        top_k_predictions=300,\n",
        "        num_cls=len(dataset_params['classes']),\n",
        "        normalize_targets=True,\n",
        "        post_prediction_callback=PPYoloEPostPredictionCallback(\n",
        "            score_threshold=0.01,\n",
        "            nms_top_k=1000,\n",
        "            max_predictions=300,\n",
        "            nms_threshold=0.7\n",
        "        )\n",
        "    )\n",
        ")"
      ]
    },
    {
      "cell_type": "markdown",
      "metadata": {
        "id": "dT7YKnrWLC04"
      },
      "source": [
        "### Inferencia s natrénovaným modelom"
      ]
    },
    {
      "cell_type": "code",
      "execution_count": null,
      "metadata": {
        "id": "SF5tGXtHeYS9"
      },
      "outputs": [],
      "source": [
        "import supervision as sv\n",
        "\n",
        "ds = sv.DetectionDataset.from_yolo(\n",
        "    images_directory_path=f\"{LOCATION}/test/images\",\n",
        "    annotations_directory_path=f\"{LOCATION}/test/labels\",\n",
        "    data_yaml_path=f\"{LOCATION}/data.yaml\",\n",
        "    force_masks=False\n",
        ")"
      ]
    },
    {
      "cell_type": "code",
      "execution_count": null,
      "metadata": {
        "id": "iqBcOUVuj3hc"
      },
      "outputs": [],
      "source": [
        "import supervision as sv\n",
        "\n",
        "CONFIDENCE_THRESHOLD = 0.4\n",
        "\n",
        "predictions = {}\n",
        "\n",
        "for image_name, image in ds.images.items():\n",
        "    result = best_model.predict(image, conf=CONFIDENCE_THRESHOLD)\n",
        "\n",
        "    # Access prediction information from the ImageDetectionPrediction object\n",
        "    bboxes_xyxy = result.prediction.bboxes_xyxy\n",
        "    confidence = result.prediction.confidence\n",
        "    labels = result.prediction.labels.astype(int)\n",
        "\n",
        "    detections = sv.Detections(\n",
        "        xyxy=bboxes_xyxy,\n",
        "        confidence=confidence,\n",
        "        class_id=labels\n",
        "    )\n",
        "\n",
        "    predictions[image_name] = detections\n"
      ]
    },
    {
      "cell_type": "code",
      "execution_count": null,
      "metadata": {
        "id": "qsAWCA0Bm9hH"
      },
      "outputs": [],
      "source": [
        "import random\n",
        "random.seed(10)"
      ]
    },
    {
      "cell_type": "code",
      "execution_count": null,
      "metadata": {
        "id": "e60g6GtxmMRA"
      },
      "outputs": [],
      "source": [
        "import supervision as sv\n",
        "\n",
        "MAX_IMAGE_COUNT = 241\n",
        "\n",
        "n = min(MAX_IMAGE_COUNT, len(ds.images))\n",
        "\n",
        "keys = list(ds.images.keys())\n",
        "keys = random.sample(keys, n)\n",
        "\n",
        "box_annotator = sv.BoxAnnotator()\n",
        "\n",
        "images = []\n",
        "titles = []\n",
        "\n",
        "for key in keys:\n",
        "    frame_with_annotations = box_annotator.annotate(\n",
        "        scene=ds.images[key].copy(),\n",
        "        detections=ds.annotations[key],\n",
        "        skip_label=True\n",
        "    )\n",
        "    images.append(frame_with_annotations)\n",
        "    titles.append('annotations')\n",
        "    frame_with_predictions = box_annotator.annotate(\n",
        "        scene=ds.images[key].copy(),\n",
        "        detections=predictions[key],\n",
        "        skip_label=True\n",
        "    )\n",
        "    images.append(frame_with_predictions)\n",
        "    titles.append('predictions')\n",
        "\n",
        "%matplotlib inline\n",
        "grid_size = (n, 2) \n",
        "sv.plot_images_grid(images=images, titles=titles, grid_size=grid_size, size=(2 * 4, n * 2.5))\n"
      ]
    }
  ],
  "metadata": {
    "accelerator": "GPU",
    "colab": {
      "gpuType": "T4",
      "provenance": []
    },
    "kernelspec": {
      "display_name": "Python 3",
      "name": "python3"
    },
    "language_info": {
      "name": "python"
    }
  },
  "nbformat": 4,
  "nbformat_minor": 0
}
